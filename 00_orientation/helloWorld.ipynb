{
 "cells": [
  {
   "cell_type": "code",
   "execution_count": null,
   "id": "15d8da47",
   "metadata": {},
   "outputs": [
    {
     "ename": "",
     "evalue": "",
     "output_type": "error",
     "traceback": [
      "\u001b[1;31m'.venv (Python 3.13.3)' でセルを実行するには、 ipykernel パッケージが必要です。\n",
      "\u001b[1;31m'ipykernel' を Python 環境にインストールします。\n",
      "\u001b[1;31mコマンド: 'c:/Users/kondo.N2502/sample/.venv/Scripts/python.exe -m pip install ipykernel -U --force-reinstall'"
     ]
    }
   ],
   "source": [
    "print(\"Hello! World!\")"
   ]
  }
 ],
 "metadata": {
  "kernelspec": {
   "display_name": ".venv",
   "language": "python",
   "name": "python3"
  },
  "language_info": {
   "name": "python",
   "version": "3.13.3"
  }
 },
 "nbformat": 4,
 "nbformat_minor": 5
}
